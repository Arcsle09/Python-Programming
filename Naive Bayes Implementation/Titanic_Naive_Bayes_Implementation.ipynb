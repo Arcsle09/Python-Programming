{
  "cells": [
    {
      "metadata": {
        "trusted": true
      },
      "cell_type": "code",
      "source": "import pandas as pd\nimport matplotlib.pyplot as plt  \nfrom sklearn.naive_bayes import GaussianNB\nimport numpy as np\nfrom sklearn.metrics import mean_squared_error   \n\n'''\nWe can use Scikit learn to build a simple linear regression model\nyou can use it use it like \nmodel = GaussianNB()\n\n'''",
      "execution_count": 12,
      "outputs": [
        {
          "output_type": "execute_result",
          "execution_count": 12,
          "data": {
            "text/plain": "'\\nWe can use Scikit learn to build a simple linear regression model\\nyou can use it use it like \\nmodel = GaussianNB()\\n\\n'"
          },
          "metadata": {}
        }
      ]
    },
    {
      "metadata": {
        "trusted": true
      },
      "cell_type": "code",
      "source": "##step1: Load CSV File\ndf = pd.read_csv('titanic.csv')\ndf.head()",
      "execution_count": 37,
      "outputs": [
        {
          "output_type": "execute_result",
          "execution_count": 37,
          "data": {
            "text/html": "<div>\n<style scoped>\n    .dataframe tbody tr th:only-of-type {\n        vertical-align: middle;\n    }\n\n    .dataframe tbody tr th {\n        vertical-align: top;\n    }\n\n    .dataframe thead th {\n        text-align: right;\n    }\n</style>\n<table border=\"1\" class=\"dataframe\">\n  <thead>\n    <tr style=\"text-align: right;\">\n      <th></th>\n      <th>Survived</th>\n      <th>Pclass</th>\n      <th>Name</th>\n      <th>Sex</th>\n      <th>Age</th>\n      <th>Siblings/Spouses Aboard</th>\n      <th>Parents/Children Aboard</th>\n      <th>Fare</th>\n    </tr>\n  </thead>\n  <tbody>\n    <tr>\n      <th>0</th>\n      <td>0</td>\n      <td>3</td>\n      <td>Mr. Owen Harris Braund</td>\n      <td>1</td>\n      <td>22.0</td>\n      <td>1</td>\n      <td>0</td>\n      <td>7.2500</td>\n    </tr>\n    <tr>\n      <th>1</th>\n      <td>1</td>\n      <td>1</td>\n      <td>Mrs. John Bradley (Florence Briggs Thayer) Cum...</td>\n      <td>0</td>\n      <td>38.0</td>\n      <td>1</td>\n      <td>0</td>\n      <td>71.2833</td>\n    </tr>\n    <tr>\n      <th>2</th>\n      <td>1</td>\n      <td>3</td>\n      <td>Miss. Laina Heikkinen</td>\n      <td>0</td>\n      <td>26.0</td>\n      <td>0</td>\n      <td>0</td>\n      <td>7.9250</td>\n    </tr>\n    <tr>\n      <th>3</th>\n      <td>1</td>\n      <td>1</td>\n      <td>Mrs. Jacques Heath (Lily May Peel) Futrelle</td>\n      <td>0</td>\n      <td>35.0</td>\n      <td>1</td>\n      <td>0</td>\n      <td>53.1000</td>\n    </tr>\n    <tr>\n      <th>4</th>\n      <td>0</td>\n      <td>3</td>\n      <td>Mr. William Henry Allen</td>\n      <td>1</td>\n      <td>35.0</td>\n      <td>0</td>\n      <td>0</td>\n      <td>8.0500</td>\n    </tr>\n  </tbody>\n</table>\n</div>",
            "text/plain": "   Survived  Pclass                                               Name  Sex  \\\n0         0       3                             Mr. Owen Harris Braund    1   \n1         1       1  Mrs. John Bradley (Florence Briggs Thayer) Cum...    0   \n2         1       3                              Miss. Laina Heikkinen    0   \n3         1       1        Mrs. Jacques Heath (Lily May Peel) Futrelle    0   \n4         0       3                            Mr. William Henry Allen    1   \n\n    Age  Siblings/Spouses Aboard  Parents/Children Aboard     Fare  \n0  22.0                        1                        0   7.2500  \n1  38.0                        1                        0  71.2833  \n2  26.0                        0                        0   7.9250  \n3  35.0                        1                        0  53.1000  \n4  35.0                        0                        0   8.0500  "
          },
          "metadata": {}
        }
      ]
    },
    {
      "metadata": {
        "trusted": true
      },
      "cell_type": "code",
      "source": "## Step 2: Plot the Data ####\nages = df[\"Age\"].values\nfaires = df[\"Fare\"].values\nsurvived = df[\"Survived\"].values\ncolors = []\nfor i in survived:\n    if i == 0:\n        colors.append('red')\n    else:\n        colors.append('green')\n        \n#plt.scatter(ages,faires,s = 50,color=colors)\n#plt.show()",
      "execution_count": 20,
      "outputs": []
    },
    {
      "metadata": {
        "trusted": true
      },
      "cell_type": "code",
      "source": "## Step 3: Build a NB Model ####\nfeatures = df.drop(['Survived'],axis=1).values\nfeatures = df.drop(['Name'],axis=1).values\ntarget = df['Survived'].values\nfeatures_train,target_train = features[0:710],target[0:710]\nfeature_test,target_test = features[710:],target[710:]\nmodel = GaussianNB()\nmodel.fit(features_train,target_train)",
      "execution_count": 46,
      "outputs": [
        {
          "output_type": "execute_result",
          "execution_count": 46,
          "data": {
            "text/plain": "GaussianNB(priors=None)"
          },
          "metadata": {}
        }
      ]
    },
    {
      "metadata": {
        "trusted": true
      },
      "cell_type": "code",
      "source": "## Step 4: Print Predicted vs Actuals ####\npredicted_survived = model.predict(feature_test)\nfor x in zip(target_test,predicted_survived):\n    print('Actual was: ',x[0],'Predicted is: ', x[1])",
      "execution_count": 47,
      "outputs": [
        {
          "output_type": "stream",
          "text": "Actual was:  0 Predicted is:  0\nActual was:  0 Predicted is:  0\nActual was:  0 Predicted is:  0\nActual was:  1 Predicted is:  1\nActual was:  1 Predicted is:  1\nActual was:  0 Predicted is:  0\nActual was:  1 Predicted is:  1\nActual was:  0 Predicted is:  0\nActual was:  0 Predicted is:  0\nActual was:  0 Predicted is:  0\nActual was:  1 Predicted is:  1\nActual was:  0 Predicted is:  0\nActual was:  1 Predicted is:  1\nActual was:  1 Predicted is:  1\nActual was:  0 Predicted is:  0\nActual was:  0 Predicted is:  0\nActual was:  1 Predicted is:  1\nActual was:  0 Predicted is:  0\nActual was:  0 Predicted is:  0\nActual was:  0 Predicted is:  0\nActual was:  0 Predicted is:  0\nActual was:  0 Predicted is:  0\nActual was:  0 Predicted is:  0\nActual was:  1 Predicted is:  1\nActual was:  0 Predicted is:  0\nActual was:  0 Predicted is:  0\nActual was:  1 Predicted is:  1\nActual was:  0 Predicted is:  0\nActual was:  1 Predicted is:  1\nActual was:  0 Predicted is:  0\nActual was:  1 Predicted is:  1\nActual was:  0 Predicted is:  0\nActual was:  0 Predicted is:  0\nActual was:  1 Predicted is:  1\nActual was:  0 Predicted is:  0\nActual was:  0 Predicted is:  0\nActual was:  1 Predicted is:  1\nActual was:  1 Predicted is:  1\nActual was:  0 Predicted is:  0\nActual was:  0 Predicted is:  0\nActual was:  1 Predicted is:  1\nActual was:  1 Predicted is:  1\nActual was:  0 Predicted is:  0\nActual was:  0 Predicted is:  0\nActual was:  0 Predicted is:  0\nActual was:  1 Predicted is:  1\nActual was:  0 Predicted is:  0\nActual was:  0 Predicted is:  0\nActual was:  1 Predicted is:  1\nActual was:  1 Predicted is:  1\nActual was:  0 Predicted is:  0\nActual was:  1 Predicted is:  1\nActual was:  0 Predicted is:  0\nActual was:  0 Predicted is:  0\nActual was:  0 Predicted is:  0\nActual was:  0 Predicted is:  0\nActual was:  0 Predicted is:  0\nActual was:  0 Predicted is:  0\nActual was:  0 Predicted is:  0\nActual was:  0 Predicted is:  0\nActual was:  1 Predicted is:  1\nActual was:  0 Predicted is:  0\nActual was:  0 Predicted is:  0\nActual was:  1 Predicted is:  1\nActual was:  0 Predicted is:  0\nActual was:  1 Predicted is:  1\nActual was:  1 Predicted is:  1\nActual was:  1 Predicted is:  1\nActual was:  0 Predicted is:  0\nActual was:  0 Predicted is:  0\nActual was:  0 Predicted is:  0\nActual was:  0 Predicted is:  0\nActual was:  1 Predicted is:  1\nActual was:  0 Predicted is:  0\nActual was:  1 Predicted is:  1\nActual was:  0 Predicted is:  0\nActual was:  0 Predicted is:  0\nActual was:  0 Predicted is:  0\nActual was:  0 Predicted is:  0\nActual was:  0 Predicted is:  0\nActual was:  0 Predicted is:  0\nActual was:  0 Predicted is:  0\nActual was:  1 Predicted is:  1\nActual was:  1 Predicted is:  1\nActual was:  0 Predicted is:  0\nActual was:  0 Predicted is:  0\nActual was:  0 Predicted is:  0\nActual was:  1 Predicted is:  1\nActual was:  1 Predicted is:  1\nActual was:  1 Predicted is:  1\nActual was:  1 Predicted is:  1\nActual was:  0 Predicted is:  0\nActual was:  0 Predicted is:  0\nActual was:  0 Predicted is:  0\nActual was:  0 Predicted is:  0\nActual was:  1 Predicted is:  1\nActual was:  0 Predicted is:  0\nActual was:  0 Predicted is:  0\nActual was:  0 Predicted is:  0\nActual was:  0 Predicted is:  0\nActual was:  0 Predicted is:  0\nActual was:  0 Predicted is:  0\nActual was:  0 Predicted is:  0\nActual was:  0 Predicted is:  0\nActual was:  0 Predicted is:  0\nActual was:  0 Predicted is:  0\nActual was:  1 Predicted is:  1\nActual was:  1 Predicted is:  1\nActual was:  0 Predicted is:  0\nActual was:  1 Predicted is:  1\nActual was:  0 Predicted is:  0\nActual was:  0 Predicted is:  0\nActual was:  0 Predicted is:  0\nActual was:  1 Predicted is:  1\nActual was:  1 Predicted is:  1\nActual was:  1 Predicted is:  1\nActual was:  1 Predicted is:  1\nActual was:  1 Predicted is:  1\nActual was:  0 Predicted is:  0\nActual was:  0 Predicted is:  0\nActual was:  0 Predicted is:  0\nActual was:  1 Predicted is:  1\nActual was:  0 Predicted is:  0\nActual was:  0 Predicted is:  0\nActual was:  1 Predicted is:  1\nActual was:  1 Predicted is:  1\nActual was:  0 Predicted is:  0\nActual was:  0 Predicted is:  0\nActual was:  1 Predicted is:  1\nActual was:  0 Predicted is:  0\nActual was:  0 Predicted is:  0\nActual was:  0 Predicted is:  0\nActual was:  0 Predicted is:  0\nActual was:  0 Predicted is:  0\nActual was:  0 Predicted is:  0\nActual was:  1 Predicted is:  1\nActual was:  0 Predicted is:  0\nActual was:  0 Predicted is:  0\nActual was:  0 Predicted is:  0\nActual was:  1 Predicted is:  1\nActual was:  0 Predicted is:  0\nActual was:  1 Predicted is:  1\nActual was:  1 Predicted is:  1\nActual was:  1 Predicted is:  1\nActual was:  1 Predicted is:  1\nActual was:  0 Predicted is:  0\nActual was:  0 Predicted is:  0\nActual was:  0 Predicted is:  0\nActual was:  1 Predicted is:  1\nActual was:  0 Predicted is:  0\nActual was:  0 Predicted is:  0\nActual was:  1 Predicted is:  1\nActual was:  1 Predicted is:  1\nActual was:  0 Predicted is:  0\nActual was:  0 Predicted is:  0\nActual was:  1 Predicted is:  1\nActual was:  0 Predicted is:  0\nActual was:  1 Predicted is:  1\nActual was:  0 Predicted is:  0\nActual was:  0 Predicted is:  0\nActual was:  1 Predicted is:  1\nActual was:  1 Predicted is:  1\nActual was:  0 Predicted is:  0\nActual was:  0 Predicted is:  0\nActual was:  0 Predicted is:  0\nActual was:  1 Predicted is:  1\nActual was:  1 Predicted is:  1\nActual was:  0 Predicted is:  0\nActual was:  0 Predicted is:  0\nActual was:  0 Predicted is:  0\nActual was:  0 Predicted is:  0\nActual was:  0 Predicted is:  0\nActual was:  0 Predicted is:  0\nActual was:  1 Predicted is:  1\nActual was:  0 Predicted is:  0\nActual was:  1 Predicted is:  1\nActual was:  0 Predicted is:  0\n",
          "name": "stdout"
        }
      ]
    },
    {
      "metadata": {
        "trusted": true
      },
      "cell_type": "code",
      "source": "## Step 5: Estimate Error ####\nprint('The accuracy of this model is: ',model.score(feature_test,target_test))",
      "execution_count": 51,
      "outputs": [
        {
          "output_type": "stream",
          "text": "The accuracy of this model is:  1.0\n",
          "name": "stdout"
        }
      ]
    },
    {
      "metadata": {
        "trusted": true
      },
      "cell_type": "code",
      "source": "",
      "execution_count": null,
      "outputs": []
    }
  ],
  "metadata": {
    "kernelspec": {
      "name": "python36",
      "display_name": "Python 3.6",
      "language": "python"
    },
    "language_info": {
      "mimetype": "text/x-python",
      "nbconvert_exporter": "python",
      "name": "python",
      "pygments_lexer": "ipython3",
      "version": "3.6.6",
      "file_extension": ".py",
      "codemirror_mode": {
        "version": 3,
        "name": "ipython"
      }
    }
  },
  "nbformat": 4,
  "nbformat_minor": 2
}